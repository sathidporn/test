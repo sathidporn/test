{
 "cells": [
  {
   "cell_type": "markdown",
   "metadata": {
    "id": "It0JOX4ikMEw"
   },
   "source": [
    "# Install Library"
   ]
  },
  {
   "cell_type": "code",
   "execution_count": 9,
   "metadata": {
    "colab": {
     "base_uri": "https://localhost:8080/",
     "height": 1000
    },
    "id": "9piKn_rRjFiP",
    "outputId": "1bed60e4-7c4e-4ef6-ccb2-d52aa0c95817"
   },
   "outputs": [
    {
     "name": "stdout",
     "output_type": "stream",
     "text": [
      "Collecting pandas==1.0.4\n",
      "\u001b[?25l  Downloading https://files.pythonhosted.org/packages/8e/86/c14387d6813ebadb7bf61b9ad270ffff111c8b587e4d266e07de774e385e/pandas-1.0.4-cp36-cp36m-manylinux1_x86_64.whl (10.1MB)\n",
      "\u001b[K     |████████████████████████████████| 10.1MB 3.8MB/s \n",
      "\u001b[?25hRequirement already satisfied: pytz>=2017.2 in /usr/local/lib/python3.6/dist-packages (from pandas==1.0.4) (2018.9)\n",
      "Requirement already satisfied: numpy>=1.13.3 in /usr/local/lib/python3.6/dist-packages (from pandas==1.0.4) (1.19.4)\n",
      "Requirement already satisfied: python-dateutil>=2.6.1 in /usr/local/lib/python3.6/dist-packages (from pandas==1.0.4) (2.8.1)\n",
      "Requirement already satisfied: six>=1.5 in /usr/local/lib/python3.6/dist-packages (from python-dateutil>=2.6.1->pandas==1.0.4) (1.15.0)\n",
      "\u001b[31mERROR: google-colab 1.0.0 has requirement pandas~=1.1.0; python_version >= \"3.0\", but you'll have pandas 1.0.4 which is incompatible.\u001b[0m\n",
      "Installing collected packages: pandas\n",
      "  Found existing installation: pandas 1.1.5\n",
      "    Uninstalling pandas-1.1.5:\n",
      "      Successfully uninstalled pandas-1.1.5\n",
      "Successfully installed pandas-1.0.4\n"
     ]
    },
    {
     "data": {
      "application/vnd.colab-display-data+json": {
       "pip_warning": {
        "packages": [
         "pandas"
        ]
       }
      }
     },
     "metadata": {
      "tags": []
     },
     "output_type": "display_data"
    },
    {
     "name": "stdout",
     "output_type": "stream",
     "text": [
      "Collecting ibm-cos-sdk\n",
      "\u001b[?25l  Downloading https://files.pythonhosted.org/packages/2c/67/b7ad979c4312de26997213e6a16842fcffce1b117864efbf147a98f52ed1/ibm-cos-sdk-2.9.0.tar.gz (51kB)\n",
      "\u001b[K     |████████████████████████████████| 61kB 3.3MB/s \n",
      "\u001b[?25hCollecting ibm-cos-sdk-core==2.9.0\n",
      "\u001b[?25l  Downloading https://files.pythonhosted.org/packages/1a/90/bb91ea2a889c977cb429ac6a7c2b4cb653d71528a7eae019c1f41a7b2a44/ibm-cos-sdk-core-2.9.0.tar.gz (823kB)\n",
      "\u001b[K     |████████████████████████████████| 829kB 7.6MB/s \n",
      "\u001b[?25hCollecting ibm-cos-sdk-s3transfer==2.9.0\n",
      "\u001b[?25l  Downloading https://files.pythonhosted.org/packages/80/50/8bf89d509c68c79de08c8a2cb8e90e9235d0a20d4ebd6a2936efd505792a/ibm-cos-sdk-s3transfer-2.9.0.tar.gz (133kB)\n",
      "\u001b[K     |████████████████████████████████| 143kB 28.6MB/s \n",
      "\u001b[?25hCollecting jmespath<1.0.0,>=0.7.1\n",
      "  Downloading https://files.pythonhosted.org/packages/07/cb/5f001272b6faeb23c1c9e0acc04d48eaaf5c862c17709d20e3469c6e0139/jmespath-0.10.0-py2.py3-none-any.whl\n",
      "Requirement already satisfied: requests<3.0,>=2.18 in /usr/local/lib/python3.6/dist-packages (from ibm-cos-sdk-core==2.9.0->ibm-cos-sdk) (2.23.0)\n",
      "Requirement already satisfied: python-dateutil<3.0.0,>=2.1 in /usr/local/lib/python3.6/dist-packages (from ibm-cos-sdk-core==2.9.0->ibm-cos-sdk) (2.8.1)\n",
      "Requirement already satisfied: chardet<4,>=3.0.2 in /usr/local/lib/python3.6/dist-packages (from requests<3.0,>=2.18->ibm-cos-sdk-core==2.9.0->ibm-cos-sdk) (3.0.4)\n",
      "Requirement already satisfied: certifi>=2017.4.17 in /usr/local/lib/python3.6/dist-packages (from requests<3.0,>=2.18->ibm-cos-sdk-core==2.9.0->ibm-cos-sdk) (2020.12.5)\n",
      "Requirement already satisfied: idna<3,>=2.5 in /usr/local/lib/python3.6/dist-packages (from requests<3.0,>=2.18->ibm-cos-sdk-core==2.9.0->ibm-cos-sdk) (2.10)\n",
      "Requirement already satisfied: urllib3!=1.25.0,!=1.25.1,<1.26,>=1.21.1 in /usr/local/lib/python3.6/dist-packages (from requests<3.0,>=2.18->ibm-cos-sdk-core==2.9.0->ibm-cos-sdk) (1.24.3)\n",
      "Requirement already satisfied: six>=1.5 in /usr/local/lib/python3.6/dist-packages (from python-dateutil<3.0.0,>=2.1->ibm-cos-sdk-core==2.9.0->ibm-cos-sdk) (1.15.0)\n",
      "Building wheels for collected packages: ibm-cos-sdk, ibm-cos-sdk-core, ibm-cos-sdk-s3transfer\n",
      "  Building wheel for ibm-cos-sdk (setup.py) ... \u001b[?25l\u001b[?25hdone\n",
      "  Created wheel for ibm-cos-sdk: filename=ibm_cos_sdk-2.9.0-py2.py3-none-any.whl size=72656 sha256=d88940dc68f736957ac475d1521f14770f5438fd6114360b3bb1788a134081fb\n",
      "  Stored in directory: /root/.cache/pip/wheels/a1/bd/d6/55a0a8486a324f3b96cd398ed2953892d46e63c99b36114f0c\n",
      "  Building wheel for ibm-cos-sdk-core (setup.py) ... \u001b[?25l\u001b[?25hdone\n",
      "  Created wheel for ibm-cos-sdk-core: filename=ibm_cos_sdk_core-2.9.0-py2.py3-none-any.whl size=498452 sha256=cbca89aa21635bc97280e67e9c6bc03f31074cd7051746f7161ef70b4cd67777\n",
      "  Stored in directory: /root/.cache/pip/wheels/65/b6/8b/3d1586e529055db93bf453886e8215b52abbbc37169c1bc949\n",
      "  Building wheel for ibm-cos-sdk-s3transfer (setup.py) ... \u001b[?25l\u001b[?25hdone\n",
      "  Created wheel for ibm-cos-sdk-s3transfer: filename=ibm_cos_sdk_s3transfer-2.9.0-py2.py3-none-any.whl size=88604 sha256=38796072274ed153e724e5ad0423b7ecf925053150e5930c918c2c76234915c6\n",
      "  Stored in directory: /root/.cache/pip/wheels/45/81/94/c6a58ec323b5dfbd9d1c380891be9d425cb3940756c1156417\n",
      "Successfully built ibm-cos-sdk ibm-cos-sdk-core ibm-cos-sdk-s3transfer\n",
      "Installing collected packages: jmespath, ibm-cos-sdk-core, ibm-cos-sdk-s3transfer, ibm-cos-sdk\n",
      "Successfully installed ibm-cos-sdk-2.9.0 ibm-cos-sdk-core-2.9.0 ibm-cos-sdk-s3transfer-2.9.0 jmespath-0.10.0\n",
      "Collecting ibm-watson-machine-learning\n",
      "\u001b[?25l  Downloading https://files.pythonhosted.org/packages/7d/2a/a2166d35b273bb01b3d72eb4338ce1f4544aac69ea233887d4a4453aba83/ibm_watson_machine_learning-1.0.45-py3-none-any.whl (1.7MB)\n",
      "\u001b[K     |████████████████████████████████| 1.7MB 4.4MB/s \n",
      "\u001b[?25hCollecting lomond\n",
      "  Downloading https://files.pythonhosted.org/packages/0f/b1/02eebed49c754b01b17de7705caa8c4ceecfb4f926cdafc220c863584360/lomond-0.3.3-py2.py3-none-any.whl\n",
      "Requirement already satisfied, skipping upgrade: certifi in /usr/local/lib/python3.6/dist-packages (from ibm-watson-machine-learning) (2020.12.5)\n",
      "Requirement already satisfied, skipping upgrade: requests in /usr/local/lib/python3.6/dist-packages (from ibm-watson-machine-learning) (2.23.0)\n",
      "Requirement already satisfied, skipping upgrade: urllib3 in /usr/local/lib/python3.6/dist-packages (from ibm-watson-machine-learning) (1.24.3)\n",
      "Collecting ibm-cos-sdk==2.7.*\n",
      "\u001b[?25l  Downloading https://files.pythonhosted.org/packages/af/13/e403ad0e5a9192062d4ce653b2451f73a9c2813096528030b0253d81fa14/ibm-cos-sdk-2.7.0.tar.gz (51kB)\n",
      "\u001b[K     |████████████████████████████████| 61kB 7.2MB/s \n",
      "\u001b[?25hRequirement already satisfied, skipping upgrade: tabulate in /usr/local/lib/python3.6/dist-packages (from ibm-watson-machine-learning) (0.8.7)\n",
      "Requirement already satisfied, skipping upgrade: pandas<=1.0.5 in /usr/local/lib/python3.6/dist-packages (from ibm-watson-machine-learning) (1.0.4)\n",
      "Requirement already satisfied, skipping upgrade: six>=1.10.0 in /usr/local/lib/python3.6/dist-packages (from lomond->ibm-watson-machine-learning) (1.15.0)\n",
      "Requirement already satisfied, skipping upgrade: chardet<4,>=3.0.2 in /usr/local/lib/python3.6/dist-packages (from requests->ibm-watson-machine-learning) (3.0.4)\n",
      "Requirement already satisfied, skipping upgrade: idna<3,>=2.5 in /usr/local/lib/python3.6/dist-packages (from requests->ibm-watson-machine-learning) (2.10)\n",
      "Collecting ibm-cos-sdk-core==2.7.0\n",
      "\u001b[?25l  Downloading https://files.pythonhosted.org/packages/24/47/6f56b25ca9efd734dfef6ad4bcc3d3e59a025965bc04ece76fc71f9aca4c/ibm-cos-sdk-core-2.7.0.tar.gz (824kB)\n",
      "\u001b[K     |████████████████████████████████| 829kB 24.4MB/s \n",
      "\u001b[?25hCollecting ibm-cos-sdk-s3transfer==2.7.0\n",
      "\u001b[?25l  Downloading https://files.pythonhosted.org/packages/0f/ab/7cbe8a4539da5efeedda61e696b05684e2f44766a750b795cbfb24d7f727/ibm-cos-sdk-s3transfer-2.7.0.tar.gz (133kB)\n",
      "\u001b[K     |████████████████████████████████| 143kB 37.7MB/s \n",
      "\u001b[?25hRequirement already satisfied, skipping upgrade: jmespath<1.0.0,>=0.7.1 in /usr/local/lib/python3.6/dist-packages (from ibm-cos-sdk==2.7.*->ibm-watson-machine-learning) (0.10.0)\n",
      "Requirement already satisfied, skipping upgrade: numpy>=1.13.3 in /usr/local/lib/python3.6/dist-packages (from pandas<=1.0.5->ibm-watson-machine-learning) (1.19.4)\n",
      "Requirement already satisfied, skipping upgrade: pytz>=2017.2 in /usr/local/lib/python3.6/dist-packages (from pandas<=1.0.5->ibm-watson-machine-learning) (2018.9)\n",
      "Requirement already satisfied, skipping upgrade: python-dateutil>=2.6.1 in /usr/local/lib/python3.6/dist-packages (from pandas<=1.0.5->ibm-watson-machine-learning) (2.8.1)\n",
      "Collecting docutils<0.16,>=0.10\n",
      "\u001b[?25l  Downloading https://files.pythonhosted.org/packages/22/cd/a6aa959dca619918ccb55023b4cb151949c64d4d5d55b3f4ffd7eee0c6e8/docutils-0.15.2-py3-none-any.whl (547kB)\n",
      "\u001b[K     |████████████████████████████████| 552kB 37.8MB/s \n",
      "\u001b[?25hBuilding wheels for collected packages: ibm-cos-sdk, ibm-cos-sdk-core, ibm-cos-sdk-s3transfer\n",
      "  Building wheel for ibm-cos-sdk (setup.py) ... \u001b[?25l\u001b[?25hdone\n",
      "  Created wheel for ibm-cos-sdk: filename=ibm_cos_sdk-2.7.0-py2.py3-none-any.whl size=72555 sha256=c390b71a370c2c498e2a869ad1d2f9097ee4b4f7e785c76e6dba81fab84b2125\n",
      "  Stored in directory: /root/.cache/pip/wheels/a7/10/5b/5d6543382dc5cc86022e490619c8db1253c22d50a57493262b\n",
      "  Building wheel for ibm-cos-sdk-core (setup.py) ... \u001b[?25l\u001b[?25hdone\n",
      "  Created wheel for ibm-cos-sdk-core: filename=ibm_cos_sdk_core-2.7.0-py2.py3-none-any.whl size=500999 sha256=a94acc1ecc014618a961b760a58204f405ce276ae2192fc613da5f9dc4ba959d\n",
      "  Stored in directory: /root/.cache/pip/wheels/4d/69/e0/048f98aadb8f018f13fde51c52af878763eed47d2ee0fb735d\n",
      "  Building wheel for ibm-cos-sdk-s3transfer (setup.py) ... \u001b[?25l\u001b[?25hdone\n",
      "  Created wheel for ibm-cos-sdk-s3transfer: filename=ibm_cos_sdk_s3transfer-2.7.0-py2.py3-none-any.whl size=88603 sha256=110c73660d13512f3b3b06a8cfae3e39e0b32bc4e0d0a3d6cb541d5d0f4e591c\n",
      "  Stored in directory: /root/.cache/pip/wheels/44/90/ce/c4fa6f55d3c3cfd1f824f31585c58cd717ef035a63620e7ba7\n",
      "Successfully built ibm-cos-sdk ibm-cos-sdk-core ibm-cos-sdk-s3transfer\n",
      "\u001b[31mERROR: datascience 0.10.6 has requirement folium==0.2.1, but you'll have folium 0.8.3 which is incompatible.\u001b[0m\n",
      "Installing collected packages: lomond, docutils, ibm-cos-sdk-core, ibm-cos-sdk-s3transfer, ibm-cos-sdk, ibm-watson-machine-learning\n",
      "  Found existing installation: docutils 0.16\n",
      "    Uninstalling docutils-0.16:\n",
      "      Successfully uninstalled docutils-0.16\n",
      "  Found existing installation: ibm-cos-sdk-core 2.9.0\n",
      "    Uninstalling ibm-cos-sdk-core-2.9.0:\n",
      "      Successfully uninstalled ibm-cos-sdk-core-2.9.0\n",
      "  Found existing installation: ibm-cos-sdk-s3transfer 2.9.0\n",
      "    Uninstalling ibm-cos-sdk-s3transfer-2.9.0:\n",
      "      Successfully uninstalled ibm-cos-sdk-s3transfer-2.9.0\n",
      "  Found existing installation: ibm-cos-sdk 2.9.0\n",
      "    Uninstalling ibm-cos-sdk-2.9.0:\n",
      "      Successfully uninstalled ibm-cos-sdk-2.9.0\n",
      "Successfully installed docutils-0.15.2 ibm-cos-sdk-2.7.0 ibm-cos-sdk-core-2.7.0 ibm-cos-sdk-s3transfer-2.7.0 ibm-watson-machine-learning-1.0.45 lomond-0.3.3\n"
     ]
    }
   ],
   "source": [
    "#!pip install pandas==1.0.4 #use pandas 1.0.4 to fix problem when install wml(require <=1.0.5)\n",
    "!pip install ibm-cos-sdk\n",
    "!pip install -U ibm-watson-machine-learning"
   ]
  },
  {
   "cell_type": "code",
   "execution_count": null,
   "metadata": {
    "id": "3jgTftptkwix"
   },
   "outputs": [],
   "source": [
    "!pip freeze"
   ]
  },
  {
   "cell_type": "markdown",
   "metadata": {
    "id": "lg4PfzSIkGCi"
   },
   "source": [
    "# Connect  WML"
   ]
  },
  {
   "cell_type": "code",
   "execution_count": 2,
   "metadata": {
    "id": "oEeorwrln_wE"
   },
   "outputs": [],
   "source": [
    "#WML Credentials\n",
    "apikey = 'xCXcijMvlWzt0yS862yVKaBOy5boF9J8fc8g5TgZ9mmP'\n",
    "location = 'us-south'"
   ]
  },
  {
   "cell_type": "code",
   "execution_count": 3,
   "metadata": {
    "id": "s1a-HvsbkTao"
   },
   "outputs": [],
   "source": [
    "#Set WML authentication\n",
    "wml_credentials = {\n",
    "    \"apikey\": apikey,\n",
    "    \"url\": 'https://' + location + '.ml.cloud.ibm.com'\n",
    "}"
   ]
  },
  {
   "cell_type": "code",
   "execution_count": 4,
   "metadata": {
    "colab": {
     "base_uri": "https://localhost:8080/"
    },
    "id": "Ue2kggfskzJE",
    "outputId": "d3e87c79-2821-48b9-e871-e8525144227b"
   },
   "outputs": [],
   "source": [
    "#Create client to connect to WML service via API, this connection is called 'client'\n",
    "from ibm_watson_machine_learning import APIClient\n",
    "client = APIClient(wml_credentials)"
   ]
  },
  {
   "cell_type": "markdown",
   "metadata": {
    "id": "n8JyWaZZkSs2"
   },
   "source": [
    "# Connect  COS"
   ]
  },
  {
   "cell_type": "code",
   "execution_count": 5,
   "metadata": {
    "id": "knkWmLlgk6d8"
   },
   "outputs": [],
   "source": [
    "#Create cos credentials\n",
    "COS_CRN = \"crn:v1:bluemix:public:cloud-object-storage:global:a/a2fbcfc73145484da67dd67dbc4f914d:c9ef8a5f-f92d-4fd7-a5a8-8cb94bb46b28::\"\n",
    "WML_INST_NAME = \"Machine Learning-1x\"\n",
    "WML_CRN = \"crn:v1:bluemix:public:pm-20:us-south:a/a2fbcfc73145484da67dd67dbc4f914d:ab896b3d-9905-495f-b828-2593b75195c5::\""
   ]
  },
  {
   "cell_type": "code",
   "execution_count": null,
   "metadata": {
    "id": "zse9xEWikJdg"
   },
   "outputs": [],
   "source": []
  },
  {
   "cell_type": "markdown",
   "metadata": {
    "id": "Ys0CKkERlMd_"
   },
   "source": [
    "# Space"
   ]
  },
  {
   "cell_type": "code",
   "execution_count": null,
   "metadata": {
    "colab": {
     "base_uri": "https://localhost:8080/"
    },
    "id": "417_wVRLlvCw",
    "outputId": "971aed81-c95a-4628-9152-4ab2182ed65e"
   },
   "outputs": [
    {
     "name": "stdout",
     "output_type": "stream",
     "text": [
      "--------------  ----  --------\n",
      "META_PROP NAME  TYPE  REQUIRED\n",
      "NAME            str   Y\n",
      "DESCRIPTION     str   N\n",
      "STORAGE         dict  N\n",
      "COMPUTE         dict  N\n",
      "--------------  ----  --------\n"
     ]
    }
   ],
   "source": [
    "client.spaces.ConfigurationMetaNames.show()"
   ]
  },
  {
   "cell_type": "code",
   "execution_count": null,
   "metadata": {
    "colab": {
     "base_uri": "https://localhost:8080/"
    },
    "id": "b4cToaJIlG7k",
    "outputId": "04d637a4-cd61-47db-ab42-cf4cc675e232"
   },
   "outputs": [
    {
     "name": "stdout",
     "output_type": "stream",
     "text": [
      "Space has been created. However some background setup activities might still be on-going. Check for 'status' field in the response. It has to show 'active' before space can be used. If its not 'active', you can monitor the state with a call to spaces.get_details(space_id)\n"
     ]
    },
    {
     "data": {
      "text/plain": [
       "{'entity': {'compute': [{'crn': 'crn:v1:bluemix:public:pm-20:us-south:a/a2fbcfc73145484da67dd67dbc4f914d:ab896b3d-9905-495f-b828-2593b75195c5::',\n",
       "    'guid': 'ab896b3d-9905-495f-b828-2593b75195c5',\n",
       "    'name': 'Machine Learning-1x',\n",
       "    'type': 'machine_learning'}],\n",
       "  'members': [{'id': 'IBMid-550009U7HH',\n",
       "    'role': 'admin',\n",
       "    'state': 'active',\n",
       "    'type': 'user'}],\n",
       "  'name': 'Test to set3',\n",
       "  'scope': {'bss_account_id': 'a2fbcfc73145484da67dd67dbc4f914d'},\n",
       "  'status': {'state': 'preparing'}},\n",
       " 'metadata': {'created_at': '2021-01-09T15:46:34.284Z',\n",
       "  'creator_id': 'IBMid-550009U7HH',\n",
       "  'id': '6bd5b37e-260e-4824-88cd-140d4aedbcb4',\n",
       "  'url': '/v2/spaces/6bd5b37e-260e-4824-88cd-140d4aedbcb4'}}"
      ]
     },
     "execution_count": 59,
     "metadata": {
      "tags": []
     },
     "output_type": "execute_result"
    }
   ],
   "source": [
    "#set space metadata\n",
    "space_meta = {\n",
    "    client.spaces.ConfigurationMetaNames.NAME: \"Test to set3\",\n",
    "    ''' #when create new space this code will be generate new bucket in COS\n",
    "    client.spaces.ConfigurationMetaNames.STORAGE: {\n",
    "         \"type\": \"bmcos_object_storage\",\n",
    "         \"resource_crn\": COS_CRN\n",
    "     },\n",
    "    '''\n",
    "    client.spaces.ConfigurationMetaNames.COMPUTE: {\n",
    "        'name': WML_INST_NAME,\n",
    "        'crn': WML_CRN\n",
    "    }\n",
    "}\n",
    "\n",
    "#create new space\n",
    "space = client.spaces.store(space_meta)\n",
    "space"
   ]
  },
  {
   "cell_type": "code",
   "execution_count": 7,
   "metadata": {
    "colab": {
     "base_uri": "https://localhost:8080/",
     "height": 35
    },
    "id": "6LmRGGWswJh1",
    "outputId": "f56dbac3-b474-4d29-b856-bdc616db1bae"
   },
   "outputs": [
    {
     "output_type": "execute_result",
     "data": {
      "text/plain": [
       "'35e5769e-3a6a-4eba-8fa0-09ebd594f205'"
      ]
     },
     "metadata": {},
     "execution_count": 7
    }
   ],
   "source": [
    "#define space id\n",
    "#space_id = client.spaces.get_id(space)\n",
    "space_id = \"35e5769e-3a6a-4eba-8fa0-09ebd594f205\"\n",
    "space_id"
   ]
  },
  {
   "cell_type": "code",
   "execution_count": null,
   "metadata": {
    "colab": {
     "base_uri": "https://localhost:8080/"
    },
    "id": "NGyG7udYxq9a",
    "outputId": "06ed4f19-4dc3-47a6-d442-f23b1d5d79c4"
   },
   "outputs": [
    {
     "data": {
      "text/plain": [
       "{'entity': {'compute': [{'crn': 'crn:v1:bluemix:public:pm-20:us-south:a/a2fbcfc73145484da67dd67dbc4f914d:ab896b3d-9905-495f-b828-2593b75195c5::',\n",
       "    'guid': 'ab896b3d-9905-495f-b828-2593b75195c5',\n",
       "    'name': 'Machine Learning-1x',\n",
       "    'type': 'machine_learning'}],\n",
       "  'name': 'Test Linear Regression',\n",
       "  'scope': {'bss_account_id': 'a2fbcfc73145484da67dd67dbc4f914d'},\n",
       "  'status': {'state': 'active'},\n",
       "  'storage': {'properties': {'bucket_name': '56e34fe7-4cea-4f07-abb2-5b04b8838326',\n",
       "    'bucket_region': 'us-south',\n",
       "    'credentials': {'admin': {'access_key_id': '26d06c94cd0245edb499c4483ccc9864',\n",
       "      'api_key': 'qjui5NpYAtxs0uU3R7AnJtp4I9a__Am2pbJXE4ZhkJR_',\n",
       "      'secret_access_key': 'f6bb5a12c84c659d3322a43a233d173476c3c4f8bf279013',\n",
       "      'service_id': 'ServiceId-fe413cf6-a24d-48dc-9e15-b174a32a92ac'},\n",
       "     'editor': {'access_key_id': '29a1fcc9003b420bbe44c4c735a70827',\n",
       "      'api_key': 'bZh6XJCBHg1OiKtkNwINtC19G4QXdH2W1F6QBsS6TEHf',\n",
       "      'resource_key_crn': 'crn:v1:bluemix:public:cloud-object-storage:global:a/a2fbcfc73145484da67dd67dbc4f914d:c9ef8a5f-f92d-4fd7-a5a8-8cb94bb46b28::',\n",
       "      'secret_access_key': 'f0bed421b5b32e1a81777b1192d787ec68e665166c08bc84',\n",
       "      'service_id': 'ServiceId-56f75249-ad18-4443-8c16-c0ded279b873'},\n",
       "     'viewer': {'access_key_id': '80919704ed5047d9acd7004b371535c4',\n",
       "      'api_key': 'fbZnWNBuSCfhs7XIMJ2E2nz33hD8wH_znxpJkuIqTMwk',\n",
       "      'resource_key_crn': 'crn:v1:bluemix:public:cloud-object-storage:global:a/a2fbcfc73145484da67dd67dbc4f914d:c9ef8a5f-f92d-4fd7-a5a8-8cb94bb46b28::',\n",
       "      'secret_access_key': '7d33d7224d42ace816b9dbaad89f58f41aa61f1d7039a72e',\n",
       "      'service_id': 'ServiceId-1e7c5000-c949-411f-a769-92cbfa11fd84'}},\n",
       "    'endpoint_url': 'https://s3.us-south.cloud-object-storage.appdomain.cloud',\n",
       "    'guid': 'c9ef8a5f-f92d-4fd7-a5a8-8cb94bb46b28',\n",
       "    'resource_crn': 'crn:v1:bluemix:public:cloud-object-storage:global:a/a2fbcfc73145484da67dd67dbc4f914d:c9ef8a5f-f92d-4fd7-a5a8-8cb94bb46b28::'},\n",
       "   'type': 'bmcos_object_storage'}},\n",
       " 'metadata': {'created_at': '2021-01-04T16:46:17.894Z',\n",
       "  'creator_id': 'IBMid-550009U7HH',\n",
       "  'id': '35e5769e-3a6a-4eba-8fa0-09ebd594f205',\n",
       "  'updated_at': '2021-01-04T16:46:43.520Z',\n",
       "  'url': '/v2/spaces/35e5769e-3a6a-4eba-8fa0-09ebd594f205'}}"
      ]
     },
     "execution_count": 81,
     "metadata": {
      "tags": []
     },
     "output_type": "execute_result"
    }
   ],
   "source": [
    "client.spaces.get_details(space_id)"
   ]
  },
  {
   "cell_type": "code",
   "execution_count": 9,
   "metadata": {
    "colab": {
     "base_uri": "https://localhost:8080/",
     "height": 35
    },
    "id": "1jDMc-UilZTu",
    "outputId": "4b047b5f-b94f-4783-c1eb-b7897853fb03"
   },
   "outputs": [
    {
     "output_type": "execute_result",
     "data": {
      "text/plain": [
       "'SUCCESS'"
      ]
     },
     "metadata": {},
     "execution_count": 9
    }
   ],
   "source": [
    "#set default space\n",
    "space_id = '35e5769e-3a6a-4eba-8fa0-09ebd594f205'\n",
    "client.set.default_space(space_id)"
   ]
  },
  {
   "cell_type": "code",
   "execution_count": null,
   "metadata": {
    "colab": {
     "base_uri": "https://localhost:8080/"
    },
    "id": "cZ45d4DKlb9h",
    "outputId": "20866559-be05-4f3e-b3a9-39d95d75c868"
   },
   "outputs": [
    {
     "name": "stdout",
     "output_type": "stream",
     "text": [
      "Note: 'limit' is not provided. Only first 50 records will be displayed if the number of records exceed 50\n",
      "------------------------------------  ----------------------  ------------------------\n",
      "ID                                    NAME                    CREATED\n",
      "9fc43a8e-6979-4937-b26c-114d2fb9280c  Test                    2021-01-09T15:24:53.123Z\n",
      "35e5769e-3a6a-4eba-8fa0-09ebd594f205  Test Linear Regression  2021-01-04T16:46:17.894Z\n",
      "2873be61-8421-476c-9410-a48f46cd8605  test upload to wml      2021-01-04T02:28:36.976Z\n",
      "1dcd2034-0d04-4e0e-83a1-05adf0d064c9  salegas5-deployments    2020-12-06T13:30:33.903Z\n",
      "------------------------------------  ----------------------  ------------------------\n"
     ]
    }
   ],
   "source": [
    "#get space list\n",
    "client.spaces.list()"
   ]
  },
  {
   "cell_type": "markdown",
   "metadata": {
    "id": "BHlu0jJSlh8P"
   },
   "source": [
    "# Model Definition"
   ]
  },
  {
   "cell_type": "code",
   "execution_count": null,
   "metadata": {
    "colab": {
     "base_uri": "https://localhost:8080/"
    },
    "id": "pLssk9vPu1L1",
    "outputId": "6a9a4c27-b47c-4ee7-a6d5-7be8d522f385"
   },
   "outputs": [
    {
     "name": "stdout",
     "output_type": "stream",
     "text": [
      "--------------  ----  --------  ----------------------------------------------------------------\n",
      "META_PROP NAME  TYPE  REQUIRED  SCHEMA\n",
      "NAME            str   Y\n",
      "DESCRIPTION     str   N\n",
      "PLATFORM        dict  Y         {'name(required)': 'string', 'versions(required)': ['versions']}\n",
      "VERSION         str   Y\n",
      "COMMAND         str   N\n",
      "CUSTOM          dict  N\n",
      "SPACE_UID       str   N\n",
      "--------------  ----  --------  ----------------------------------------------------------------\n"
     ]
    }
   ],
   "source": [
    "client.model_definitions.ConfigurationMetaNames.show()"
   ]
  },
  {
   "cell_type": "code",
   "execution_count": 9,
   "metadata": {
    "colab": {
     "base_uri": "https://localhost:8080/"
    },
    "id": "3HGQPGAZlp1_",
    "outputId": "7c39b935-6a5a-4ea3-df00-588ef0413e02"
   },
   "outputs": [
    {
     "data": {
      "text/plain": [
       "{'metadata': {'space_id': '35e5769e-3a6a-4eba-8fa0-09ebd594f205',\n",
       "  'guid': '08eed2de-8378-4ff8-9355-7f88265224e2',\n",
       "  'asset_type': 'wml_model_definition',\n",
       "  'created_at': '2021-01-10T13:05:26Z',\n",
       "  'last_updated_at': '2021-01-10T13:05:26Z',\n",
       "  'name': 'LR xgboost',\n",
       "  'href': '/v2/assets/wml_model_definition/08eed2de-8378-4ff8-9355-7f88265224e2?space_id=35e5769e-3a6a-4eba-8fa0-09ebd594f205'},\n",
       " 'entity': {'wml_model_definition': {'version': '1.0',\n",
       "   'platform': {'name': 'python', 'versions': ['3.7.7']}}}}"
      ]
     },
     "execution_count": 9,
     "metadata": {},
     "output_type": "execute_result"
    }
   ],
   "source": [
    "#set model definition metadata\n",
    "modeldef_meta = {\n",
    "    client.model_definitions.ConfigurationMetaNames.NAME: \"LR xgboost\",\n",
    "    client.model_definitions.ConfigurationMetaNames.PLATFORM: {'name': 'python', 'versions': ['3.7.7']},\n",
    "    client.model_definitions.ConfigurationMetaNames.VERSION: \"1.0\"\n",
    "}\n",
    "#store model.zip file from local to WML\n",
    "modeldef = client.model_definitions.store(r\"D:\\Alpha Com\\New Platform\\Model\\linear regression_xgboost.zip\", modeldef_meta)\n",
    "modeldef"
   ]
  },
  {
   "cell_type": "code",
   "execution_count": 10,
   "metadata": {
    "colab": {
     "base_uri": "https://localhost:8080/",
     "height": 35
    },
    "id": "6U_wtZd6uAaj",
    "outputId": "3bf548df-7ee6-408d-ff65-15a829cd1980"
   },
   "outputs": [
    {
     "data": {
      "text/plain": [
       "'08eed2de-8378-4ff8-9355-7f88265224e2'"
      ]
     },
     "execution_count": 10,
     "metadata": {},
     "output_type": "execute_result"
    }
   ],
   "source": [
    "#define model definition id\n",
    "modeldef_id = client.model_definitions.get_id(modeldef)\n",
    "modeldef_id"
   ]
  },
  {
   "cell_type": "code",
   "execution_count": null,
   "metadata": {
    "colab": {
     "base_uri": "https://localhost:8080/"
    },
    "id": "M6-g3nqkqe9L",
    "outputId": "c86986ac-81f1-4bc1-d834-658627121db9"
   },
   "outputs": [
    {
     "data": {
      "text/plain": [
       "{'entity': {'wml_model_definition': {'platform': {'name': 'python',\n",
       "    'versions': ['3.7.7']},\n",
       "   'version': '1.0'}},\n",
       " 'metadata': {'asset_type': 'wml_model_definition',\n",
       "  'attachment_id': '11ee156f-b630-4e7b-9405-3e8126730f96',\n",
       "  'created_at': '2021-01-09T17:39:32Z',\n",
       "  'guid': '5f0bbbfc-5f1c-43a7-b40c-936fbf8b8670',\n",
       "  'href': '/v2/assets/wml_model_definition/5f0bbbfc-5f1c-43a7-b40c-936fbf8b8670?space_id=35e5769e-3a6a-4eba-8fa0-09ebd594f205',\n",
       "  'last_updated_at': '2021-01-09T17:39:37Z',\n",
       "  'name': 'LR xgboost (test3)',\n",
       "  'space_id': '35e5769e-3a6a-4eba-8fa0-09ebd594f205'}}"
      ]
     },
     "execution_count": 117,
     "metadata": {
      "tags": []
     },
     "output_type": "execute_result"
    }
   ],
   "source": [
    "#detail of model definition\n",
    "client.model_definitions.get_details(modeldef_id)"
   ]
  },
  {
   "cell_type": "code",
   "execution_count": null,
   "metadata": {
    "colab": {
     "base_uri": "https://localhost:8080/"
    },
    "id": "K4nGnnKdoR5m",
    "outputId": "17ecdc30-8968-40d3-f963-1f1f217b9b45"
   },
   "outputs": [
    {
     "name": "stdout",
     "output_type": "stream",
     "text": [
      "---------------------  --------------------  ------------------------------------\n",
      "NAME                   ASSET_TYPE            GUID\n",
      "LR xgboost (test)      wml_model_definition  884b9799-daf2-4c36-be10-4137ba714ac1\n",
      "LR xgboost (test3)     wml_model_definition  609df4cd-bec0-4b83-8e62-b23e074468fb\n",
      "XGB_tul with GPU       wml_model_definition  6150bbc6-c5ba-44be-b616-0962f14e6453\n",
      "LR xgboost (test3)     wml_model_definition  5f0bbbfc-5f1c-43a7-b40c-936fbf8b8670\n",
      "Generator 5 Model      wml_model_definition  1e491661-6ea0-4586-a48f-5ef28069b312\n",
      "XGB_tul no GPU         wml_model_definition  32ecb769-b6ca-43f4-8b7e-0bc230c70b4a\n",
      "LR xgboost (test)      wml_model_definition  bafc9f44-d496-45b3-81a2-c911655b6c57\n",
      "LR xgboost (test)      wml_model_definition  21a14735-12df-482e-aad0-2df37989c716\n",
      "LR xgboost             wml_model_definition  7f7e6507-414f-48d1-8145-eb9de7e219d6\n",
      "LR xgboost-save model  wml_model_definition  65763f64-e4a9-4677-988e-90f86b341e81\n",
      "---------------------  --------------------  ------------------------------------\n"
     ]
    }
   ],
   "source": [
    "#get model definition list\n",
    "client.model_definitions.list()"
   ]
  },
  {
   "cell_type": "markdown",
   "metadata": {
    "id": "9dZwkbHivImG"
   },
   "source": [
    "# Training Model Definition"
   ]
  },
  {
   "cell_type": "code",
   "execution_count": 150,
   "metadata": {
    "colab": {
     "base_uri": "https://localhost:8080/"
    },
    "id": "MRPu48LSwt_v",
    "outputId": "892c28a0-38ac-4c6b-84a7-808ab4efff80"
   },
   "outputs": [
    {
     "name": "stdout",
     "output_type": "stream",
     "text": [
      "--------------------------  ----  --------  ------------------------------------------------------------------------------------------------------------------------------------------------------------------------------------------------------------------------------------------------------------------------------------------------------------------------------------------------------------------------------------------------------------------------------------\n",
      "META_PROP NAME              TYPE  REQUIRED  SCHEMA\n",
      "TRAINING_DATA_REFERENCES    list  Y         [{'name(optional)': 'string', 'type(required)': 'string', 'connection(required)': {'endpoint_url(required)': 'string', 'access_key_id(required)': 'string', 'secret_access_key(required)': 'string'}, 'location(required)': {'bucket': 'string', 'path': 'string'}, 'schema(optional)': {'id(required)': 'string', 'fields(required)': [{'name(required)': 'string', 'type(required)': 'string', 'nullable(optional)': 'string'}]}}]\n",
      "TRAINING_RESULTS_REFERENCE  dict  Y         {'name(optional)': 'string', 'type(required)': 'string', 'connection(required)': {'endpoint_url(required)': 'string', 'access_key_id(required)': 'string', 'secret_access_key(required)': 'string'}, 'location(required)': {'bucket': 'string', 'path': 'string'}}\n",
      "TAGS                        list  N         ['string']\n",
      "PIPELINE                    dict  N\n",
      "EXPERIMENT                  dict  N\n",
      "FEDERATED_LEARNING          dict  N\n",
      "SPACE_UID                   str   N\n",
      "MODEL_DEFINITION            dict  N\n",
      "DESCRIPTION                 str   Y\n",
      "NAME                        str   Y\n",
      "--------------------------  ----  --------  ------------------------------------------------------------------------------------------------------------------------------------------------------------------------------------------------------------------------------------------------------------------------------------------------------------------------------------------------------------------------------------------------------------------------------------\n"
     ]
    }
   ],
   "source": [
    "client.training.ConfigurationMetaNames.show()"
   ]
  },
  {
   "cell_type": "code",
   "execution_count": null,
   "metadata": {
    "colab": {
     "base_uri": "https://localhost:8080/"
    },
    "id": "fg9KGzfTxF7t",
    "outputId": "9299bb4e-b24c-406b-ec5f-f669e734e208"
   },
   "outputs": [
    {
     "name": "stdout",
     "output_type": "stream",
     "text": [
      "-----------------------------  ------------------------------------  ----\n",
      "NAME                           ASSET_ID                              TYPE\n",
      "default_py3.6                  0062b8c9-8b7d-44a0-a9b9-46c416adcbd9  base\n",
      "pytorch-onnx_1.3-py3.7-edt     069ea134-3346-5748-b513-49120e15d288  base\n",
      "scikit-learn_0.20-py3.6        09c5a1d0-9c1e-4473-a344-eb7b665ff687  base\n",
      "spark-mllib_3.0-scala_2.12     09f4cff0-90a7-5899-b9ed-1ef348aebdee  base\n",
      "ai-function_0.1-py3.6          0cdb0f1e-5376-4f4d-92dd-da3b69aa9bda  base\n",
      "shiny-r3.6                     0e6e79df-875e-4f24-8ae9-62dcc2148306  base\n",
      "pytorch_1.1-py3.6              10ac12d6-6b30-4ccd-8392-3e922c096a92  base\n",
      "tensorflow_1.15-py3.6-ddl      111e41b3-de2d-5422-a4d6-bf776828c4b7  base\n",
      "scikit-learn_0.22-py3.6        154010fa-5b3b-4ac1-82af-4d5ee5abbc85  base\n",
      "default_r3.6                   1b70aec3-ab34-4b87-8aa0-a4a3c8296a36  base\n",
      "pytorch-onnx_1.3-py3.6         1bc6029a-cc97-56da-b8e0-39c3880dbbe7  base\n",
      "tensorflow_2.1-py3.6           1eb25b84-d6ed-5dde-b6a5-3fbdf1665666  base\n",
      "tensorflow_1.15-py3.6          2b73a275-7cbf-420b-a912-eae7f436e0bc  base\n",
      "pytorch_1.2-py3.6              2c8ef57d-2687-4b7d-acce-01f94976dac1  base\n",
      "spark-mllib_2.3                2e51f700-bca0-4b0d-88dc-5c6791338875  base\n",
      "pytorch-onnx_1.1-py3.6-edt     32983cea-3f32-4400-8965-dde874a8d67e  base\n",
      "spark-mllib_3.0-py37           36507ebe-8770-55ba-ab2a-eafe787600e9  base\n",
      "spark-mllib_2.4                390d21f8-e58b-4fac-9c55-d7ceda621326  base\n",
      "xgboost_0.82-py3.6             39e31acd-5f30-41dc-ae44-60233c80306e  base\n",
      "pytorch-onnx_1.2-py3.6-edt     40589d0e-7019-4e28-8daa-fb03b6f4fe12  base\n",
      "spark-mllib_2.4-r_3.6          49403dff-92e9-4c87-a3d7-a42d0021c095  base\n",
      "xgboost_0.90-py3.6             4ff8d6c2-1343-4c18-85e1-689c965304d3  base\n",
      "pytorch-onnx_1.1-py3.6         50f95b2a-bc16-43bb-bc94-b0bed208c60b  base\n",
      "spark-mllib_2.4-scala_2.11     55a70f99-7320-4be5-9fb9-9edb5a443af5  base\n",
      "autoai-obm_2.0                 5c2e37fa-80b8-5e77-840f-d912469614ee  base\n",
      "spss-modeler_18.1              5c3cad7e-507f-4b2a-a9a3-ab53a21dee8b  base\n",
      "autoai-kb_3.1-py3.7            632d4b22-10aa-5180-88f0-f52dfb6444d7  base\n",
      "spark-mllib_2.3-r_3.6          6586b9e3-ccd6-4f92-900f-0f8cb2bd6f0c  base\n",
      "spss-modeler_18.2              687eddc9-028a-4117-b9dd-e57b36f1efa5  base\n",
      "pytorch-onnx_1.2-py3.6         692a6a4d-2c4d-45ff-a1ed-b167ee55469a  base\n",
      "do_12.9                        75a3a4b0-6aa0-41b3-a618-48b1f56332a6  base\n",
      "spark-mllib_2.3-scala_2.11     7963efe5-bbec-417e-92cf-0574e21b4e8d  base\n",
      "spark-mllib_2.4-py37           7abc992b-b685-532b-a122-a396a3cdbaab  base\n",
      "caffe_1.0-py3.6                7bb3dbe2-da6e-4145-918d-b6d84aa93b6b  base\n",
      "cuda-py3.6                     82c79ece-4d12-40e6-8787-a7b9e0f62770  base\n",
      "tensorflow_1.15-py3.6-horovod  8964680e-d5e4-5bb8-919b-8342c6c0dfd8  base\n",
      "hybrid_0.1                     8c1a58c6-62b5-4dc4-987a-df751c2756b6  base\n",
      "pytorch-onnx_1.3-py3.7         8d5d8a87-a912-54cf-81ec-3914adaa988d  base\n",
      "caffe-ibm_1.0-py3.6            8d863266-7927-4d1e-97d7-56a7f4c0a19b  base\n",
      "spss-modeler_17.1              902d0051-84bd-4af6-ab6b-8f6aa6fdeabb  base\n",
      "do_12.10                       9100fd72-8159-4eb9-8a0b-a87e12eefa36  base\n",
      "do_py3.7                       9447fa8b-2051-4d24-9eef-5acb0e3c59f8  base\n",
      "spark-mllib_3.0-r_3.6          94bb6052-c837-589d-83f1-f4142f219e32  base\n",
      "cuda-py3.7                     9a44990c-1aa1-4c7d-baf8-c4099011741c  base\n",
      "hybrid_0.2                     9b3f9040-9cee-4ead-8d7a-780600f542f7  base\n",
      "autoai-obm_2.0 with Spark 3.0  af10f35f-69fa-5d66-9bf5-acb58434263a  base\n",
      "tensorflow_2.1-py3.7           c4032338-2a40-500a-beef-b01ab2667e27  base\n",
      "autoai-kb_3.0-py3.6            d139f196-e04b-5d8b-9140-9a10ca1fa91a  base\n",
      "spark-mllib_3.0-py36           d82546d5-dd78-5fbb-9131-2ec309bc56ed  base\n",
      "autoai-ts_1.0-py3.7            deef04f0-0c42-5147-9711-89f9904299db  base\n",
      "-----------------------------  ------------------------------------  ----\n",
      "Note: Only first 50 records were displayed. To display more use 'limit' parameter.\n"
     ]
    }
   ],
   "source": [
    "client.software_specifications.list()"
   ]
  },
  {
   "cell_type": "code",
   "execution_count": null,
   "metadata": {
    "colab": {
     "base_uri": "https://localhost:8080/"
    },
    "id": "0PVwN2FMxLyv",
    "outputId": "e8061631-4c3b-4ff1-fd60-56bcc4707a3c"
   },
   "outputs": [
    {
     "name": "stdout",
     "output_type": "stream",
     "text": [
      "-------------  ------------------------------------  --------------------------------------------------------------------------------------------------------------------------------------\n",
      "NAME           ID                                    DESCRIPTION\n",
      "ML             5a1f0e64-e420-55ce-bd7a-f6d00bb942cf  A hardware specification providing 4 CPU cores and 32 GiB of memory.\n",
      "V100x2         a02f3ab5-6964-4f06-a870-c7cc69187895  A hardware specification providing 52 CPU cores and 96 GiB of memory with 2 Nvidia v100 GPUs.\n",
      "L              a6c4923b-b8e4-444c-9f43-8a7ec3020110  A hardware specification providing 8 CPU cores and 32 GiB of memory.\n",
      "Default Spark  ac59d20a-9c7c-4504-a853-788ef35969da  A hardware specification for Spark with 1 CPU and 4 GiB of memory for master and worker nodes, with 2 workers.\n",
      "XXS            b128f957-581d-46d0-95b6-8af5cd5be580  A hardware specification providing one CPU core and 2 GiB of memory.\n",
      "M-Spark        b2232f7a-bfad-4822-9bce-6ba1af49217a  A hardware specification for Spark service with 2 CPU and 8 GiB of memory for master and 2 CPU and 8 GiB of memory for worker nodes.\n",
      "V100x4         b305a34b-acb5-4850-a44a-f1f15e304a20  A hardware specification providing 104 CPU cores and 192 GiB of memory with 4 Nvidia v100 GPUs.\n",
      "M              c076e82c-b2a7-4d20-9c0f-1f0c2fdf5a24  A hardware specification providing 4 CPU cores and 16 GiB of memory.\n",
      "XL-Spark       c1791762-1333-4dd3-b7bb-228ae287da31  A hardware specification for Spark service with 3 CPU and 12 GiB of memory for master and 4 CPU and 12 GiB of memory for worker nodes.\n",
      "K80            cf70f086-916d-4684-91a7-264c49c6d425  A hardware specification providing 4 CPU cores and 48 GiB of memory with 1 Nvidia K80 GPU.\n",
      "XL             d0aa1ae8-a889-42e2-a099-041b604b9289  A hardware specification providing 16 CPU cores and 64 GiB of memory.\n",
      "K80x2          d0f52aa1-4312-40f6-ad84-f16cf5c6da9e  A hardware specification providing 8 CPU cores and 96 GiB of memory with 2 Nvidia K80 GPUs.\n",
      "S-Spark        d92943ba-9f47-407d-9280-c85281687a1e  A hardware specification for Spark service with 1 CPU and 4 GiB of memory for master and 2 CPU and 4 GiB of memory for worker nodes.\n",
      "XS-Spark       e18b1866-e8fa-49c8-9aa5-dfaaed6ffa43  A hardware specification for Spark with 1 CPU and 4 GiB of memory for master and worker nodes.\n",
      "S              e7ed1d6c-2e89-42d7-aed5-863b972c1d2b  A hardware specification providing 2 CPU cores and 8 GiB of memory.\n",
      "K80x4          ec104857-0389-4649-af8e-971fc11982d0  A hardware specification providing 16 CPU cores and 192 GiB of memory with 4 Nvidia K80 GPUs.\n",
      "L-Spark        f132f14a-6c0f-4570-b87c-98ad1e297953  A hardware specification for Spark service with 2 CPU and 8 GiB of memory for master and 4 CPU and 9 GiB of memory for worker nodes.\n",
      "V100           f327bdf7-5634-43d8-b1e3-445afeaf18b9  A hardware specification providing 26 CPU cores and 48 GiB of memory with 1 Nvidia v100 GPU.\n",
      "XS             f3ebac7d-0a75-410c-8b48-a931428cc4c5  A hardware specification providing one CPU core and 4 GiB of memory.\n",
      "-------------  ------------------------------------  --------------------------------------------------------------------------------------------------------------------------------------\n"
     ]
    }
   ],
   "source": [
    "client.hardware_specifications.list()"
   ]
  },
  {
   "cell_type": "code",
   "execution_count": 11,
   "metadata": {
    "colab": {
     "base_uri": "https://localhost:8080/"
    },
    "id": "L2a5smhGyrmX",
    "outputId": "6964cc6b-eb4d-4fec-bb30-98b3b12ef400"
   },
   "outputs": [
    {
     "data": {
      "text/plain": [
       "{'metadata': {'created_at': '2021-01-10T13:05:51.541Z',\n",
       "  'description': 'Value prediction',\n",
       "  'guid': 'a63c3040-c430-4b97-8325-14260af3a1c7',\n",
       "  'id': 'a63c3040-c430-4b97-8325-14260af3a1c7',\n",
       "  'name': 'Sale Gas 5 Model',\n",
       "  'space_id': '35e5769e-3a6a-4eba-8fa0-09ebd594f205'},\n",
       " 'entity': {'description': 'Value prediction',\n",
       "  'model_definition': {'command': \"pip install xgboost==0.90 && python 'linear regression_xgboost.py'\",\n",
       "   'hardware_spec': {'name': 'k80'},\n",
       "   'id': '08eed2de-8378-4ff8-9355-7f88265224e2',\n",
       "   'parameters': {'description': 'A linear regression model using xgboost',\n",
       "    'name': 'LR xgboost Model'},\n",
       "   'software_spec': {'name': 'pytorch-onnx_1.3-py3.7'}},\n",
       "  'name': 'Sale Gas 5 Model',\n",
       "  'results_reference': {'location': {'path': '',\n",
       "    'training': '/a63c3040-c430-4b97-8325-14260af3a1c7',\n",
       "    'training_status': '/a63c3040-c430-4b97-8325-14260af3a1c7/training-status.json',\n",
       "    'bucket': 'training-model-result',\n",
       "    'assets_path': '/a63c3040-c430-4b97-8325-14260af3a1c7/assets'},\n",
       "   'type': 's3',\n",
       "   'connection': {'access_key_id': 'd9089fbf61194020b3601d7a24c5663e',\n",
       "    'secret_access_key': '04d89ef816e54bff698cc2c85b1caa61434314fe5a8eb4a5',\n",
       "    'endpoint_url': 'https://s3.us-south.cloud-object-storage.appdomain.cloud'}},\n",
       "  'space': {'href': '/v4/spaces/35e5769e-3a6a-4eba-8fa0-09ebd594f205',\n",
       "   'id': '35e5769e-3a6a-4eba-8fa0-09ebd594f205'},\n",
       "  'space_id': '35e5769e-3a6a-4eba-8fa0-09ebd594f205',\n",
       "  'training_data_references': [{'location': {'bucket': 'training-model-data'},\n",
       "    'type': 's3',\n",
       "    'connection': {'access_key_id': 'd9089fbf61194020b3601d7a24c5663e',\n",
       "     'secret_access_key': '04d89ef816e54bff698cc2c85b1caa61434314fe5a8eb4a5',\n",
       "     'endpoint_url': 'https://s3.us-south.cloud-object-storage.appdomain.cloud'}}]}}"
      ]
     },
     "execution_count": 11,
     "metadata": {},
     "output_type": "execute_result"
    }
   ],
   "source": [
    "#create training model definition (feed input data and get model metrics, model file)\n",
    "training_meta = {\n",
    "client.training.ConfigurationMetaNames.DESCRIPTION: \"Value prediction\",\n",
    "client.training.ConfigurationMetaNames.NAME: \"Sale Gas 5 Model\",\n",
    "\n",
    "client.training.ConfigurationMetaNames.TRAINING_RESULTS_REFERENCE: {\n",
    "    \"name\": \"result\",\n",
    "    \"connection\": {\n",
    "          'endpoint_url': 'https://s3.us-south.cloud-object-storage.appdomain.cloud',\n",
    "          'access_key_id': 'd9089fbf61194020b3601d7a24c5663e',\n",
    "          'secret_access_key': '04d89ef816e54bff698cc2c85b1caa61434314fe5a8eb4a5'\n",
    "      },\n",
    "      \"location\": {\n",
    "        \"bucket\": \"training-model-result\",\n",
    "    },\n",
    "    \"type\": \"s3\"\n",
    "  },\n",
    "\n",
    " client.training.ConfigurationMetaNames.MODEL_DEFINITION: {\n",
    "    \"command\": \"pip install xgboost==0.90 && python 'linear regression_xgboost.py'\",\n",
    "    #\"name\": model_def_detail[\"metadata\"][\"name\"],\n",
    "    \"id\": modeldef_id,\n",
    "    \"hardware_spec\": {\n",
    "      \"name\": \"k80\",\n",
    "      \"nodes\": 1\n",
    "    },\n",
    "    \"software_spec\": {\n",
    "      \"name\": \"pytorch-onnx_1.3-py3.7\"\n",
    "    },\n",
    "     \"parameters\": {\n",
    "          \"name\": \"LR xgboost Model\",\n",
    "          \"description\": \"A linear regression model using xgboost\",\n",
    "          #\"args\": arg\n",
    "        }\n",
    "  },\n",
    "    client.training.ConfigurationMetaNames.TRAINING_DATA_REFERENCES: [\n",
    "       {\n",
    "      \"name\": \"data\",\n",
    "      \"type\": \"s3\",\n",
    "      \"connection\": {\n",
    "          'endpoint_url': 'https://s3.us-south.cloud-object-storage.appdomain.cloud',\n",
    "          'access_key_id': 'd9089fbf61194020b3601d7a24c5663e',\n",
    "          'secret_access_key': '04d89ef816e54bff698cc2c85b1caa61434314fe5a8eb4a5'\n",
    "      },\n",
    "      \"location\": {\n",
    "        \"bucket\": \"training-model-data\"\n",
    "      }\n",
    "    }\n",
    "    ]\n",
    "}\n",
    "training = client.training.run(training_meta)\n",
    "training"
   ]
  },
  {
   "cell_type": "code",
   "execution_count": 13,
   "metadata": {
    "colab": {
     "base_uri": "https://localhost:8080/",
     "height": 35
    },
    "id": "DNx1GfENzfdR",
    "outputId": "c6113673-d1f6-46ef-d0b6-59c2626e60f0"
   },
   "outputs": [
    {
     "data": {
      "text/plain": [
       "'a63c3040-c430-4b97-8325-14260af3a1c7'"
      ]
     },
     "execution_count": 13,
     "metadata": {},
     "output_type": "execute_result"
    }
   ],
   "source": [
    "#get training id\n",
    "training_id = client.training.get_id(training)\n",
    "training_id"
   ]
  },
  {
   "cell_type": "code",
   "execution_count": 74,
   "metadata": {
    "colab": {
     "base_uri": "https://localhost:8080/"
    },
    "id": "dQ_yS3mb2TTz",
    "outputId": "fc27c4e6-8884-4488-972e-32ae6b456712"
   },
   "outputs": [
    {
     "data": {
      "text/plain": [
       "{'entity': {'description': 'Value prediction',\n",
       "  'model_definition': {'command': \"pip install sklearn xgboost && python 'linear regression_xgboost.py'\",\n",
       "   'hardware_spec': {'name': 'k80'},\n",
       "   'id': '611fc188-27bb-4430-8028-88e29d7755c0',\n",
       "   'parameters': {'description': 'A linear regression model using xgboost',\n",
       "    'name': 'LR xgboost Model'},\n",
       "   'software_spec': {'name': 'pytorch-onnx_1.3-py3.7'}},\n",
       "  'name': 'Sale Gas 5 Model',\n",
       "  'results_reference': {'connection': {'access_key_id': 'd9089fbf61194020b3601d7a24c5663e',\n",
       "    'endpoint_url': 'https://s3.us-south.cloud-object-storage.appdomain.cloud',\n",
       "    'secret_access_key': '04d89ef816e54bff698cc2c85b1caa61434314fe5a8eb4a5'},\n",
       "   'location': {'assets_path': '/d4a38991-3c18-43e4-9657-b28b602f82dc/assets',\n",
       "    'bucket': 'training-model-result',\n",
       "    'path': '',\n",
       "    'training': '/d4a38991-3c18-43e4-9657-b28b602f82dc',\n",
       "    'training_status': '/d4a38991-3c18-43e4-9657-b28b602f82dc/training-status.json'},\n",
       "   'type': 's3'},\n",
       "  'space': {'href': '/v4/spaces/35e5769e-3a6a-4eba-8fa0-09ebd594f205',\n",
       "   'id': '35e5769e-3a6a-4eba-8fa0-09ebd594f205'},\n",
       "  'space_id': '35e5769e-3a6a-4eba-8fa0-09ebd594f205',\n",
       "  'status': {'completed_at': '2021-01-10T10:19:22.124Z',\n",
       "   'failure': {'errors': [{'code': 'unknown_job_execution_error',\n",
       "      'message': 'Backend response timeout (30s)',\n",
       "      'more_info': 'http://watson-ml-api.mybluemix.net/'}],\n",
       "    'trace': 'f48b87f95b38b3b5857f5518715417d6'},\n",
       "   'state': 'failed'},\n",
       "  'training_data_references': [{'connection': {'access_key_id': 'd9089fbf61194020b3601d7a24c5663e',\n",
       "     'endpoint_url': 'https://s3.us-south.cloud-object-storage.appdomain.cloud',\n",
       "     'secret_access_key': '04d89ef816e54bff698cc2c85b1caa61434314fe5a8eb4a5'},\n",
       "    'location': {'bucket': 'training-model-data'},\n",
       "    'type': 's3'}]},\n",
       " 'metadata': {'created_at': '2021-01-10T10:18:10.446Z',\n",
       "  'description': 'Value prediction',\n",
       "  'guid': 'd4a38991-3c18-43e4-9657-b28b602f82dc',\n",
       "  'id': 'd4a38991-3c18-43e4-9657-b28b602f82dc',\n",
       "  'modified_at': '2021-01-10T10:19:22.449Z',\n",
       "  'name': 'Sale Gas 5 Model',\n",
       "  'space_id': '35e5769e-3a6a-4eba-8fa0-09ebd594f205'}}"
      ]
     },
     "execution_count": 74,
     "metadata": {
      "tags": []
     },
     "output_type": "execute_result"
    }
   ],
   "source": [
    "#get trining details\n",
    "client.training.get_details(training_id)"
   ]
  },
  {
   "cell_type": "code",
   "execution_count": null,
   "metadata": {
    "colab": {
     "base_uri": "https://localhost:8080/"
    },
    "id": "DdwPV-QEvRY_",
    "outputId": "119c4540-bfbd-48e0-807f-92a48be6aa38"
   },
   "outputs": [
    {
     "name": "stdout",
     "output_type": "stream",
     "text": [
      "------------------------------------  ------  ------------------------\n",
      "GUID (training)                       STATE   CREATED\n",
      "1d24d2aa-ce91-4311-b53a-4aa5746c93b6  failed  2021-01-09T10:46:05.941Z\n",
      "0e302fae-002f-48db-b990-eb08dc09c77e  failed  2021-01-09T04:25:02.677Z\n",
      "17007873-3441-4780-a38f-c182ad18b54e  failed  2021-01-08T04:18:46.655Z\n",
      "171111ab-781b-4afe-88da-c9485259425d  failed  2021-01-08T04:10:07.383Z\n",
      "0a110355-1aca-4289-98bd-477e41848e7d  failed  2021-01-07T07:05:23.103Z\n",
      "0838478b-e3f2-4da7-b9b5-d6923a52c9b5  failed  2021-01-07T07:02:40.489Z\n",
      "17e35cfa-7b74-46f6-acf1-4b36185faf13  failed  2021-01-05T10:30:57.307Z\n",
      "09cc1c63-7326-4be4-84ba-47de801cc624  failed  2021-01-05T10:06:24.554Z\n",
      "198a83fa-3c5d-4eea-aa2b-d730cd96e4a5  failed  2021-01-05T09:36:26.442Z\n",
      "14ad6b57-7b14-48e3-bd24-79534c01ba3c  failed  2021-01-05T08:49:23.338Z\n",
      "------------------------------------  ------  ------------------------\n"
     ]
    }
   ],
   "source": [
    "client.training.list()"
   ]
  },
  {
   "cell_type": "code",
   "execution_count": 14,
   "metadata": {
    "colab": {
     "base_uri": "https://localhost:8080/"
    },
    "id": "1e6a6_RLvbZ0",
    "outputId": "73c31f69-8162-4a7e-b816-88137b466a84"
   },
   "outputs": [
    {
     "name": "stdout",
     "output_type": "stream",
     "text": [
      "\n",
      "\n",
      "##########################################################################\n",
      "\n",
      "Log monitor started for training run: a63c3040-c430-4b97-8325-14260af3a1c7\n",
      "\n",
      "##########################################################################\n",
      "\n",
      "\n",
      "{'text': 'DL execution ID is training-Ln2Uq8aMR', 'level': 'info'}\n",
      "{'text': 'Training with training/test data at:\\n', 'level': 'info'}\n",
      "{'text': '  DATA_DIR: /mnt/data/training-model-data\\n', 'level': 'info'}\n",
      "{'text': '  MODEL_DIR: /job/model-code\\n', 'level': 'info'}\n",
      "{'text': \"  TRAINING_COMMAND: pip install xgboost==0.90 && python 'linear regression_xgboost.py'\\n\", 'level': 'info'}\n",
      "{'text': '  LOG_DIR: /job/logs\\n', 'level': 'info'}\n",
      "{'text': '  RESULT_DIR: /mnt/results/training-model-result/training-Ln2Uq8aMR\\n', 'level': 'info'}\n",
      "{'text': '  NUM_LEARNERS: 1\\n', 'level': 'info'}\n",
      "{'text': 'Sun Jan 10 13:07:04 UTC 2021: Running PyTorch job\\n', 'level': 'info'}\n",
      "{'text': 'Defaulting to user installation because normal site-packages is not writeable\\n', 'level': 'info'}\n",
      "{'text': 'Collecting xgboost==0.90\\n', 'level': 'info'}\n",
      "{'text': '  Downloading xgboost-0.90-py2.py3-none-manylinux1_x86_64.whl (142.8 MB)\\n', 'level': 'info'}\n",
      "{'text': 'Requirement already satisfied: numpy in /opt/conda/lib/python3.7/site-packages (from xgboost==0.90) (1.19.4)\\n', 'level': 'info'}\n",
      "{'text': 'Requirement already satisfied: scipy in /opt/conda/lib/python3.7/site-packages (from xgboost==0.90) (1.3.3)\\n', 'level': 'info'}\n",
      "{'text': 'Installing collected packages: xgboost\\n', 'level': 'info'}\n",
      "{'text': 'Successfully installed xgboost-0.90\\n', 'level': 'info'}\n",
      "{'text': 'WARNING: You are using pip version 20.2.4; however, version 20.3.3 is available.\\n', 'level': 'info'}\n",
      "{'text': \"You should consider upgrading via the '/opt/conda/bin/python -m pip install --upgrade pip' command.\\n\", 'level': 'info'}\n",
      "{'text': 'Initiate training\\n', 'level': 'info'}\n",
      "{'text': 'Reading argument\\n', 'level': 'info'}\n",
      "{'text': 'Reading data\\n', 'level': 'info'}\n",
      "{'text': '       TimeStamp  ...  PTTGSP.GSP5.3506.3506CX01_SALES GAS COMP.VIBRATION.3506C01ZI004.PV\\n', 'level': 'info'}\n",
      "{'text': '0  1/1/2017 0:00  ...                                          99.599808                 \\n', 'level': 'info'}\n",
      "{'text': '1  1/1/2017 0:05  ...                                          99.506256                 \\n', 'level': 'info'}\n",
      "{'text': '2  1/1/2017 0:10  ...                                          99.500099                 \\n', 'level': 'info'}\n",
      "{'text': '3  1/1/2017 0:15  ...                                          99.596878                 \\n', 'level': 'info'}\n",
      "{'text': '4  1/1/2017 0:20  ...                                          99.550003                 \\n', 'level': 'info'}\n",
      "{'text': '\\n', 'level': 'info'}\n",
      "{'text': '[5 rows x 107 columns]\\n', 'level': 'info'}\n",
      "{'text': 'Full model training\\n', 'level': 'info'}\n",
      "{'text': '', 'level': 'info'}\n",
      "{'text': '', 'level': 'info'}\n",
      "{'text': '', 'level': 'info'}\n",
      "{'text': '', 'level': 'info'}\n",
      "{'text': '', 'level': 'info'}\n",
      "{'text': '', 'level': 'info'}\n",
      "{'text': '', 'level': 'info'}\n",
      "\n",
      "\n",
      "-----------------\n",
      "Log monitor done.\n",
      "-----------------\n",
      "\n",
      "\n"
     ]
    }
   ],
   "source": [
    "#get training log\n",
    "client.training.monitor_logs(training_id)"
   ]
  },
  {
   "cell_type": "code",
   "execution_count": 15,
   "metadata": {
    "colab": {
     "base_uri": "https://localhost:8080/",
     "height": 35
    },
    "id": "Oe77TcCnqC5Q",
    "outputId": "26209f81-1351-4559-f295-af049493d6dc"
   },
   "outputs": [
    {
     "data": {
      "text/plain": [
       "'training-Ln2Uq8aMR'"
      ]
     },
     "execution_count": 15,
     "metadata": {},
     "output_type": "execute_result"
    }
   ],
   "source": [
    "#get saved model path \n",
    "model_path = client.training.get_details(training_id)['entity']['results_reference']['location']['logs']\n",
    "model_path"
   ]
  },
  {
   "cell_type": "code",
   "execution_count": null,
   "metadata": {
    "id": "2FH5M1ek2e9Z"
   },
   "outputs": [],
   "source": [
    "#for cance training\n",
    "client.training.cancel(training_id)"
   ]
  },
  {
   "cell_type": "markdown",
   "metadata": {
    "id": "4Cy2jMzP8zfU"
   },
   "source": [
    "####**-------------------------------------------------------------------**"
   ]
  },
  {
   "cell_type": "markdown",
   "metadata": {
    "id": "hcDfQv368UtE"
   },
   "source": [
    "# Download Trained Model & Store to WML"
   ]
  },
  {
   "cell_type": "code",
   "execution_count": 9,
   "metadata": {
    "id": "MNUMQGCD8ZHa"
   },
   "outputs": [],
   "source": [
    "#connect to Cloud Object Storage\n",
    "import ibm_boto3\n",
    "from ibm_botocore.client import Config, ClientError\n",
    "\n",
    "# Constants for IBM COS values\n",
    "COS_ENDPOINT = \"https://s3.us-south.cloud-object-storage.appdomain.cloud\" # Current list avaiable at https://control.cloud-object-storage.cloud.ibm.com/v2/endpoints\n",
    "COS_API_KEY_ID = \"w9OYjZ0qricse-Z0Sar08ccWq6XQw_3HmG4uUzA6qXwm\" # eg \"W00YixxxxxxxxxxMB-odB-2ySfTrFBIQQWanc--P3byk\"\n",
    "COS_INSTANCE_CRN = \"crn:v1:bluemix:public:cloud-object-storage:global:a/a2fbcfc73145484da67dd67dbc4f914d:c9ef8a5f-f92d-4fd7-a5a8-8cb94bb46b28::\" # eg \"crn:v1:bluemix:public:cloud-object-storage:global:a/3bf0d9003xxxxxxxxxx1c3e97696b71c:d6f04d83-6c4f-4a62-a165-696756d63903::\"\n",
    "\n",
    "# Create client \n",
    "cos = ibm_boto3.client(\"s3\",\n",
    "    ibm_api_key_id=COS_API_KEY_ID,\n",
    "    ibm_service_instance_id=COS_INSTANCE_CRN,\n",
    "    config=Config(signature_version=\"oauth\"),\n",
    "    endpoint_url=COS_ENDPOINT\n",
    ")"
   ]
  },
  {
   "cell_type": "code",
   "execution_count": 11,
   "metadata": {},
   "outputs": [],
   "source": [
    "bucket_name = \"training-model-result\" \n",
    "key = \"training-seAzrEaGg/trained_model.h5\"\n",
    "res=cos.download_file(Bucket=bucket_name,Key=key,Filename='trained_model.h5')"
   ]
  },
  {
   "cell_type": "code",
   "execution_count": 26,
   "metadata": {
    "id": "Sre6zGZU8pkU"
   },
   "outputs": [],
   "source": [
    "#download model to notebook via cos\n",
    "res=cos.download_file(Bucket=bucket_name,Key=key,Filename='/trained_model.h5')\n",
    "trained_model = cos.get_object(Bucket=bucket_name, Key=model_path+'/trained_model.h5')"
   ]
  },
  {
   "cell_type": "code",
   "execution_count": 27,
   "metadata": {
    "id": "Vo2t5X1Q9oto"
   },
   "outputs": [],
   "source": [
    "import xgboost as xgb"
   ]
  },
  {
   "cell_type": "code",
   "execution_count": 31,
   "metadata": {
    "id": "BU5xLfAk3_dd"
   },
   "outputs": [],
   "source": [
    "#load mode to xgb\n",
    "model = xgb.XGBRegressor()\n",
    "model.load_model('trained_model.h5')"
   ]
  },
  {
   "cell_type": "markdown",
   "metadata": {},
   "source": [
    "# Store Model to WML"
   ]
  },
  {
   "cell_type": "code",
   "execution_count": 42,
   "metadata": {},
   "outputs": [
    {
     "name": "stdout",
     "output_type": "stream",
     "text": [
      "------------------------  ----  --------  ------------------------------------------------------------------------------------------------------------------------------------------------------------------------------------------------------------------------------------------------------------------------------------------------------------------------------------------------------------------------------------------------------------------------------------\n",
      "META_PROP NAME            TYPE  REQUIRED  SCHEMA\n",
      "NAME                      str   Y\n",
      "DESCRIPTION               str   N\n",
      "INPUT_DATA_SCHEMA         list  N         {'id(required)': 'string', 'fields(required)': [{'name(required)': 'string', 'type(required)': 'string', 'nullable(optional)': 'string'}]}\n",
      "TRAINING_DATA_REFERENCES  list  N         [{'name(optional)': 'string', 'type(required)': 'string', 'connection(required)': {'endpoint_url(required)': 'string', 'access_key_id(required)': 'string', 'secret_access_key(required)': 'string'}, 'location(required)': {'bucket': 'string', 'path': 'string'}, 'schema(optional)': {'id(required)': 'string', 'fields(required)': [{'name(required)': 'string', 'type(required)': 'string', 'nullable(optional)': 'string'}]}}]\n",
      "OUTPUT_DATA_SCHEMA        dict  N         {'id(required)': 'string', 'fields(required)': [{'name(required)': 'string', 'type(required)': 'string', 'nullable(optional)': 'string'}]}\n",
      "LABEL_FIELD               str   N\n",
      "TRANSFORMED_LABEL_FIELD   str   N\n",
      "TAGS                      list  N         ['string', 'string']\n",
      "SIZE                      dict  N         {'in_memory(optional)': 'string', 'content(optional)': 'string'}\n",
      "SPACE_UID                 str   N\n",
      "PIPELINE_UID              str   N\n",
      "RUNTIME_UID               str   N\n",
      "TYPE                      str   Y\n",
      "CUSTOM                    dict  N\n",
      "DOMAIN                    str   N\n",
      "HYPER_PARAMETERS          dict  N\n",
      "METRICS                   list  N\n",
      "IMPORT                    dict  N         {'name(optional)': 'string', 'type(required)': 'string', 'connection(required)': {'endpoint_url(required)': 'string', 'access_key_id(required)': 'string', 'secret_access_key(required)': 'string'}, 'location(required)': {'bucket': 'string', 'path': 'string'}}\n",
      "TRAINING_LIB_UID          str   N\n",
      "MODEL_DEFINITION_UID      str   N\n",
      "SOFTWARE_SPEC_UID         str   N\n",
      "TF_MODEL_PARAMS           dict  N\n",
      "------------------------  ----  --------  ------------------------------------------------------------------------------------------------------------------------------------------------------------------------------------------------------------------------------------------------------------------------------------------------------------------------------------------------------------------------------------------------------------------------------------\n"
     ]
    }
   ],
   "source": [
    "client.repository.ModelMetaNames.show()"
   ]
  },
  {
   "cell_type": "code",
   "execution_count": 33,
   "metadata": {
    "colab": {
     "base_uri": "https://localhost:8080/",
     "height": 485
    },
    "id": "mUUNZmYN--4M",
    "outputId": "9eea1236-052e-4c87-8f56-71520dea5724"
   },
   "outputs": [
    {
     "data": {
      "text/plain": [
       "{'entity': {'software_spec': {'id': 'e4429883-c883-42b6-87a8-f419d64088cd',\n",
       "   'name': 'default_py3.7'},\n",
       "  'type': 'scikit-learn_0.23'},\n",
       " 'metadata': {'created_at': '2021-01-10T13:19:18.480Z',\n",
       "  'id': '3eb9e4f2-a002-4367-b3c7-b41bb2d04fc8',\n",
       "  'modified_at': '2021-01-10T13:19:22.543Z',\n",
       "  'name': 'LR xgboost Model',\n",
       "  'owner': 'IBMid-550009U7HH',\n",
       "  'space_id': '35e5769e-3a6a-4eba-8fa0-09ebd594f205'},\n",
       " 'system': {'warnings': []}}"
      ]
     },
     "execution_count": 33,
     "metadata": {},
     "output_type": "execute_result"
    }
   ],
   "source": [
    "#store model to deployment asset\n",
    "#https://www.ibm.com/support/producthub/icpdata/docs/content/SSQNUZ_latest/wsj/wmls/wmls-deploy-python-types.html\n",
    "sofware_spec_uid = client.software_specifications.get_id_by_name(\"default_py3.7\")\n",
    "model_meta = {\n",
    "            client.repository.ModelMetaNames.NAME: 'LR xgboost Model',\n",
    "            client.repository.ModelMetaNames.TYPE: 'scikit-learn_0.23',\n",
    "            client.repository.ModelMetaNames.SOFTWARE_SPEC_UID: sofware_spec_uid\n",
    "}\n",
    "\n",
    "model = client.repository.store_model(model=model ,meta_props=metadata)\n",
    "model"
   ]
  },
  {
   "cell_type": "code",
   "execution_count": 48,
   "metadata": {
    "id": "gKAW08O9Ab1g"
   },
   "outputs": [
    {
     "data": {
      "text/plain": [
       "'3eb9e4f2-a002-4367-b3c7-b41bb2d04fc8'"
      ]
     },
     "execution_count": 48,
     "metadata": {},
     "output_type": "execute_result"
    }
   ],
   "source": [
    "#get model uid\n",
    "model_uid = client.repository.get_model_uid(model)\n",
    "model_uid"
   ]
  },
  {
   "cell_type": "code",
   "execution_count": 66,
   "metadata": {},
   "outputs": [
    {
     "data": {
      "text/plain": [
       "{'entity': {'software_spec': {'id': 'e4429883-c883-42b6-87a8-f419d64088cd',\n",
       "   'name': 'default_py3.7'},\n",
       "  'type': 'scikit-learn_0.23'},\n",
       " 'metadata': {'created_at': '2021-01-10T13:19:18.480Z',\n",
       "  'id': '3eb9e4f2-a002-4367-b3c7-b41bb2d04fc8',\n",
       "  'modified_at': '2021-01-10T13:19:22.543Z',\n",
       "  'name': 'LR xgboost Model',\n",
       "  'owner': 'IBMid-550009U7HH',\n",
       "  'space_id': '35e5769e-3a6a-4eba-8fa0-09ebd594f205'},\n",
       " 'system': {'warnings': []}}"
      ]
     },
     "execution_count": 66,
     "metadata": {},
     "output_type": "execute_result"
    }
   ],
   "source": [
    "#get model detail\n",
    "client.repository.get_details(model_uid)"
   ]
  },
  {
   "cell_type": "code",
   "execution_count": 46,
   "metadata": {},
   "outputs": [
    {
     "name": "stdout",
     "output_type": "stream",
     "text": [
      "------------------------------------  ----------------  ------------------------  -----------------  -----\n",
      "GUID                                  NAME              CREATED                   FRAMEWORK          TYPE\n",
      "3eb9e4f2-a002-4367-b3c7-b41bb2d04fc8  LR xgboost Model  2021-01-10T13:19:18.002Z  scikit-learn_0.23  model\n",
      "d005dc34-25d8-472e-8b2e-ba2dc47ad5b9  LR xgboost Model  2021-01-10T13:17:42.002Z  scikit-learn_0.23  model\n",
      "69a4f290-3e67-49d0-99ee-62b66eb84ca6  LR xgboost Model  2021-01-10T13:17:13.002Z  scikit-learn_0.23  model\n",
      "------------------------------------  ----------------  ------------------------  -----------------  -----\n"
     ]
    }
   ],
   "source": [
    "client.repository.list()"
   ]
  },
  {
   "cell_type": "markdown",
   "metadata": {},
   "source": [
    "# Create Batch Deployment"
   ]
  },
  {
   "cell_type": "code",
   "execution_count": 47,
   "metadata": {},
   "outputs": [
    {
     "name": "stdout",
     "output_type": "stream",
     "text": [
      "------------------------------  ----  --------  ----------\n",
      "META_PROP NAME                  TYPE  REQUIRED  SCHEMA\n",
      "TAGS                            list  N         ['string']\n",
      "NAME                            str   N\n",
      "DESCRIPTION                     str   N\n",
      "CUSTOM                          dict  N\n",
      "ASSET                           dict  N\n",
      "HARDWARE_SPEC                   dict  N\n",
      "HYBRID_PIPELINE_HARDWARE_SPECS  list  N\n",
      "ONLINE                          dict  N\n",
      "BATCH                           dict  N\n",
      "R_SHINY                         dict  N\n",
      "VIRTUAL                         dict  N\n",
      "------------------------------  ----  --------  ----------\n"
     ]
    }
   ],
   "source": [
    "client.deployments.ConfigurationMetaNames.show()"
   ]
  },
  {
   "cell_type": "code",
   "execution_count": 50,
   "metadata": {},
   "outputs": [
    {
     "name": "stdout",
     "output_type": "stream",
     "text": [
      "-------------  ------------------------------------  --------------------------------------------------------------------------------------------------------------------------------------\n",
      "NAME           ID                                    DESCRIPTION\n",
      "ML             5a1f0e64-e420-55ce-bd7a-f6d00bb942cf  A hardware specification providing 4 CPU cores and 32 GiB of memory.\n",
      "V100x2         a02f3ab5-6964-4f06-a870-c7cc69187895  A hardware specification providing 52 CPU cores and 96 GiB of memory with 2 Nvidia v100 GPUs.\n",
      "L              a6c4923b-b8e4-444c-9f43-8a7ec3020110  A hardware specification providing 8 CPU cores and 32 GiB of memory.\n",
      "Default Spark  ac59d20a-9c7c-4504-a853-788ef35969da  A hardware specification for Spark with 1 CPU and 4 GiB of memory for master and worker nodes, with 2 workers.\n",
      "XXS            b128f957-581d-46d0-95b6-8af5cd5be580  A hardware specification providing one CPU core and 2 GiB of memory.\n",
      "M-Spark        b2232f7a-bfad-4822-9bce-6ba1af49217a  A hardware specification for Spark service with 2 CPU and 8 GiB of memory for master and 2 CPU and 8 GiB of memory for worker nodes.\n",
      "V100x4         b305a34b-acb5-4850-a44a-f1f15e304a20  A hardware specification providing 104 CPU cores and 192 GiB of memory with 4 Nvidia v100 GPUs.\n",
      "M              c076e82c-b2a7-4d20-9c0f-1f0c2fdf5a24  A hardware specification providing 4 CPU cores and 16 GiB of memory.\n",
      "XL-Spark       c1791762-1333-4dd3-b7bb-228ae287da31  A hardware specification for Spark service with 3 CPU and 12 GiB of memory for master and 4 CPU and 12 GiB of memory for worker nodes.\n",
      "K80            cf70f086-916d-4684-91a7-264c49c6d425  A hardware specification providing 4 CPU cores and 48 GiB of memory with 1 Nvidia K80 GPU.\n",
      "XL             d0aa1ae8-a889-42e2-a099-041b604b9289  A hardware specification providing 16 CPU cores and 64 GiB of memory.\n",
      "K80x2          d0f52aa1-4312-40f6-ad84-f16cf5c6da9e  A hardware specification providing 8 CPU cores and 96 GiB of memory with 2 Nvidia K80 GPUs.\n",
      "S-Spark        d92943ba-9f47-407d-9280-c85281687a1e  A hardware specification for Spark service with 1 CPU and 4 GiB of memory for master and 2 CPU and 4 GiB of memory for worker nodes.\n",
      "XS-Spark       e18b1866-e8fa-49c8-9aa5-dfaaed6ffa43  A hardware specification for Spark with 1 CPU and 4 GiB of memory for master and worker nodes.\n",
      "S              e7ed1d6c-2e89-42d7-aed5-863b972c1d2b  A hardware specification providing 2 CPU cores and 8 GiB of memory.\n",
      "K80x4          ec104857-0389-4649-af8e-971fc11982d0  A hardware specification providing 16 CPU cores and 192 GiB of memory with 4 Nvidia K80 GPUs.\n",
      "L-Spark        f132f14a-6c0f-4570-b87c-98ad1e297953  A hardware specification for Spark service with 2 CPU and 8 GiB of memory for master and 4 CPU and 9 GiB of memory for worker nodes.\n",
      "V100           f327bdf7-5634-43d8-b1e3-445afeaf18b9  A hardware specification providing 26 CPU cores and 48 GiB of memory with 1 Nvidia v100 GPU.\n",
      "XS             f3ebac7d-0a75-410c-8b48-a931428cc4c5  A hardware specification providing one CPU core and 4 GiB of memory.\n",
      "-------------  ------------------------------------  --------------------------------------------------------------------------------------------------------------------------------------\n"
     ]
    }
   ],
   "source": [
    "client.hardware_specifications.list()"
   ]
  },
  {
   "cell_type": "code",
   "execution_count": 10,
   "metadata": {},
   "outputs": [
    {
     "output_type": "stream",
     "name": "stdout",
     "text": [
      "\n",
      "\n",
      "#######################################################################################\n",
      "\n",
      "Synchronous deployment creation for uid: '3eb9e4f2-a002-4367-b3c7-b41bb2d04fc8' started\n",
      "\n",
      "#######################################################################################\n",
      "\n",
      "\n",
      "ready.\n",
      "\n",
      "\n",
      "------------------------------------------------------------------------------------------------\n",
      "Successfully finished deployment creation, deployment_uid='d9cce8b3-e655-44d9-a7d0-017f5a2f8a5c'\n",
      "------------------------------------------------------------------------------------------------\n",
      "\n",
      "\n"
     ]
    }
   ],
   "source": [
    "#create batch deployment\n",
    "hardware_spec_id = client.hardware_specifications.get_id_by_name('XS')\n",
    "deployment_meta = {\n",
    "    client.deployments.ConfigurationMetaNames.NAME: \"LR xboost deployment\",\n",
    "    client.deployments.ConfigurationMetaNames.HARDWARE_SPEC: { \n",
    "        \"id\": hardware_spec_id,\n",
    "        \"nodes\": 1\n",
    "    },\n",
    "    client.deployments.ConfigurationMetaNames.BATCH: {} \n",
    "}\n",
    "model_uid = \"3eb9e4f2-a002-4367-b3c7-b41bb2d04fc8\"\n",
    "deployment = client.deployments.create(model_uid, meta_props = deployment_meta)"
   ]
  },
  {
   "cell_type": "code",
   "execution_count": 11,
   "metadata": {},
   "outputs": [],
   "source": [
    "#get deployment uid\n",
    "deployment_id = client.deployments.get_uid((deployment))"
   ]
  },
  {
   "cell_type": "code",
   "execution_count": 12,
   "metadata": {},
   "outputs": [
    {
     "output_type": "execute_result",
     "data": {
      "text/plain": [
       "{'entity': {'asset': {'id': '3eb9e4f2-a002-4367-b3c7-b41bb2d04fc8'},\n",
       "  'batch': {},\n",
       "  'custom': {},\n",
       "  'deployed_asset_type': 'model',\n",
       "  'hardware_spec': {'id': 'f3ebac7d-0a75-410c-8b48-a931428cc4c5',\n",
       "   'name': 'XS',\n",
       "   'num_nodes': 1},\n",
       "  'name': 'LR xboost deployment',\n",
       "  'space_id': '35e5769e-3a6a-4eba-8fa0-09ebd594f205',\n",
       "  'status': {'state': 'ready'}},\n",
       " 'metadata': {'created_at': '2021-01-17T12:31:34.688Z',\n",
       "  'id': 'd9cce8b3-e655-44d9-a7d0-017f5a2f8a5c',\n",
       "  'modified_at': '2021-01-17T12:31:34.688Z',\n",
       "  'name': 'LR xboost deployment',\n",
       "  'owner': 'IBMid-550009U7HH',\n",
       "  'space_id': '35e5769e-3a6a-4eba-8fa0-09ebd594f205'}}"
      ]
     },
     "metadata": {},
     "execution_count": 12
    }
   ],
   "source": [
    "#get deployment detail\n",
    "client.deployments.get_details(deployment_id)"
   ]
  },
  {
   "cell_type": "markdown",
   "metadata": {},
   "source": [
    "client.deployments.list()"
   ]
  },
  {
   "cell_type": "markdown",
   "metadata": {},
   "source": [
    "# Job Deployment"
   ]
  },
  {
   "cell_type": "code",
   "execution_count": null,
   "metadata": {},
   "outputs": [],
   "source": [
    "#feed input data to model deployment and get model output"
   ]
  },
  {
   "cell_type": "code",
   "execution_count": 9,
   "metadata": {},
   "outputs": [
    {
     "name": "stdout",
     "output_type": "stream",
     "text": [
      "------------  ----------  ----  ------------------------------------\n",
      "NAME          ASSET_TYPE  SIZE  ASSET_ID\n",
      "model-input   data_asset  0     4b33dc50-1db7-4609-bded-6294484429fb\n",
      "model-output  data_asset  0     fc3454ba-1e8c-42c1-b8ba-9a2b5215495b\n",
      "data input    data_asset  0     00edae82-9230-4516-a18a-b7aa10400268\n",
      "------------  ----------  ----  ------------------------------------\n"
     ]
    }
   ],
   "source": [
    "client.data_assets.list()"
   ]
  },
  {
   "cell_type": "code",
   "execution_count": 24,
   "metadata": {},
   "outputs": [
    {
     "data": {
      "text/plain": [
       "('4b33dc50-1db7-4609-bded-6294484429fb',\n",
       " '/v2/assets/4b33dc50-1db7-4609-bded-6294484429fb?space_id=35e5769e-3a6a-4eba-8fa0-09ebd594f205')"
      ]
     },
     "execution_count": 24,
     "metadata": {},
     "output_type": "execute_result"
    }
   ],
   "source": [
    "model_input = client.data_assets.get_details('4b33dc50-1db7-4609-bded-6294484429fb')\n",
    "model_input_id = client.data_assets.get_id(model_input)\n",
    "model_input_href = client.data_assets.get_href(model_input)\n",
    "model_input_id, model_input_href"
   ]
  },
  {
   "cell_type": "code",
   "execution_count": 25,
   "metadata": {},
   "outputs": [
    {
     "data": {
      "text/plain": [
       "('fc3454ba-1e8c-42c1-b8ba-9a2b5215495b',\n",
       " '/v2/assets/fc3454ba-1e8c-42c1-b8ba-9a2b5215495b?space_id=35e5769e-3a6a-4eba-8fa0-09ebd594f205')"
      ]
     },
     "execution_count": 25,
     "metadata": {},
     "output_type": "execute_result"
    }
   ],
   "source": [
    "model_output = client.data_assets.get_details('fc3454ba-1e8c-42c1-b8ba-9a2b5215495b')\n",
    "model_output_id = client.data_assets.get_id(model_output)\n",
    "model_output_href = client.data_assets.get_href(model_output)\n",
    "model_output_id, model_output_href"
   ]
  },
  {
   "cell_type": "code",
   "execution_count": 47,
   "metadata": {},
   "outputs": [
    {
     "name": "stdout",
     "output_type": "stream",
     "text": [
      "---------------------  ----  --------  --------------------------------------------------------------------------------------------------------------------------------------------------------------------------------------------------------------------------------------------------------------------------------------------------------------------------------------------------------------------------------------------------------------------------------------------------------------\n",
      "META_PROP NAME         TYPE  REQUIRED  SCHEMA\n",
      "NAME                   str   N\n",
      "INPUT_DATA             list  N         [{'name(optional)': 'string', 'id(optional)': 'string', 'fields(optional)': 'array[string]', 'values': 'array[array[string]]'}]\n",
      "INPUT_DATA_REFERENCES  list  N         [{'id(optional)': 'string', 'name(optional)': 'string', 'type(required)': 'string', 'connection(required)': {'endpoint_url(required)': 'string', 'access_key_id(required)': 'string', 'secret_access_key(required)': 'string'}, 'location(required)': {'bucket': 'string', 'path': 'string'}, 'schema(optional)': {'id(required)': 'string', 'fields(required)': [{'name(required)': 'string', 'type(required)': 'string', 'nullable(optional)': 'string'}]}}]\n",
      "OUTPUT_DATA_REFERENCE  dict  N         {'name(optional)': 'string', 'type(required)': 'string', 'connection(required)': {'endpoint_url(required)': 'string', 'access_key_id(required)': 'string', 'secret_access_key(required)': 'string'}, 'location(required)': {'bucket': 'string', 'path': 'string'}, 'schema(optional)': {'id(required)': 'string', 'fields(required)': [{'name(required)': 'string', 'type(required)': 'string', 'nullable(optional)': 'string'}]}}\n",
      "EVALUATIONS_SPEC       list  N         [{'id(optional)': 'string', 'input_target(optional)': 'string', 'metrics_names(optional)': 'array[string]'}]\n",
      "ENVIRONMENT_VARIABLES  dict  N\n",
      "---------------------  ----  --------  --------------------------------------------------------------------------------------------------------------------------------------------------------------------------------------------------------------------------------------------------------------------------------------------------------------------------------------------------------------------------------------------------------------------------------------------------------------\n"
     ]
    }
   ],
   "source": [
    "client.deployments.ScoringMetaNames.show()"
   ]
  },
  {
   "cell_type": "code",
   "execution_count": 74,
   "metadata": {},
   "outputs": [],
   "source": [
    "deploymentjob_meta = {\n",
    "    client.deployments.ScoringMetaNames.NAME: \"Test Predict use LR xgboost\",\n",
    "    client.deployments.ScoringMetaNames.INPUT_DATA_REFERENCES:[{ \n",
    "        'name': 'model-input-data', \n",
    "        'type': 's3', \n",
    "        'connection': {\n",
    "            'endpoint_url': 'https://s3.us-south.cloud-object-storage.appdomain.cloud',\n",
    "            'access_key_id': 'd9089fbf61194020b3601d7a24c5663e',\n",
    "            'secret_access_key': '04d89ef816e54bff698cc2c85b1caa61434314fe5a8eb4a5'\n",
    "        }, \n",
    "        'location': {\n",
    "            'bucket': 'model-input-data', \n",
    "            #'path': '/data for predict.csv'\n",
    "        }, \n",
    "    }],\n",
    "    client.deployments.ScoringMetaNames.OUTPUT_DATA_REFERENCE:{ \n",
    "        'name': 'model-output-data', \n",
    "        'type': 's3', \n",
    "        'connection': {\n",
    "            'endpoint_url': 'https://s3.us-south.cloud-object-storage.appdomain.cloud',\n",
    "            'access_key_id': 'd9089fbf61194020b3601d7a24c5663e',\n",
    "            'secret_access_key': '04d89ef816e54bff698cc2c85b1caa61434314fe5a8eb4a5'\n",
    "        }, \n",
    "        'location': {\n",
    "            'bucket': 'model-output-data', \n",
    "            #'path': '/result.csv'\n",
    "        }, \n",
    "    }\n",
    "}\n",
    "\n",
    "#create job on that deployment_id\n",
    "job = client.deployments.create_job(deployment_id, deploymentjob_meta)"
   ]
  },
  {
   "cell_type": "code",
   "execution_count": 39,
   "metadata": {},
   "outputs": [],
   "source": [
    "deploymentjob_meta = {\n",
    " client.deployments.ScoringMetaNames.NAME: \"Test Predict use LR xgboost\",\n",
    " client.deployments.ScoringMetaNames.INPUT_DATA_REFERENCES: [{\n",
    "     \"id\": model_input_id,\n",
    "     \"name\": \"model-input\",\n",
    "     \"type\": \"data_asset\",\n",
    "     \"connection\": {},\n",
    "     \"location\": {\n",
    "            \"href\": model_input_id\n",
    "     }\n",
    " }],\n",
    " client.deployments.ScoringMetaNames.OUTPUT_DATA_REFERENCE: {\n",
    "         \"id\": model_input_id,\n",
    "         \"name\": \"model-output\",\n",
    "         \"type\": \"data_asset\",\n",
    "         \"connection\": {},\n",
    "         \"location\": {\n",
    "             \"href\": model_output_id\n",
    "         }\n",
    "     }     \n",
    " }\n",
    "\n",
    "deployment_id = 'cda1f8b8-45f6-40af-a89a-8df86b0f2584'\n",
    "\n",
    "#create job on that deployment_id\n",
    "job = client.deployments.create_job(deployment_id, deploymentjob_meta)"
   ]
  },
  {
   "cell_type": "code",
   "execution_count": 75,
   "metadata": {},
   "outputs": [
    {
     "data": {
      "text/plain": [
       "'82066f96-023b-4760-acbf-a52eb3dde8ec'"
      ]
     },
     "execution_count": 75,
     "metadata": {},
     "output_type": "execute_result"
    }
   ],
   "source": [
    "job_id = client.deployments.get_job_uid(job)\n",
    "job_id"
   ]
  },
  {
   "cell_type": "code",
   "execution_count": 76,
   "metadata": {},
   "outputs": [
    {
     "data": {
      "text/plain": [
       "{'completed_at': '2021-01-11T04:23:18.534Z',\n",
       " 'failure': {'trace': '57bdc055cc32148a939df785a3103bea',\n",
       "  'errors': [{'code': 'python_runtime_out_of_memory',\n",
       "    'message': \"('Connection aborted.', RemoteDisconnected('Remote end closed connection without response'))\"}]},\n",
       " 'running_at': '',\n",
       " 'state': 'failed'}"
      ]
     },
     "execution_count": 76,
     "metadata": {},
     "output_type": "execute_result"
    }
   ],
   "source": [
    " client.deployments.get_job_status(job_id)"
   ]
  },
  {
   "cell_type": "code",
   "execution_count": 77,
   "metadata": {},
   "outputs": [
    {
     "data": {
      "text/plain": [
       "{'entity': {'deployment': {'id': 'c138c0c8-6683-49a3-94d9-f988c16133c5'},\n",
       "  'platform_job': {'job_id': 'e0b4d31e-f1d4-4f41-967c-0383f1fb22db',\n",
       "   'run_id': '94975d8c-3a6f-484b-b8a3-fd94f111820f'},\n",
       "  'scoring': {'input_data_references': [{'connection': {'access_key_id': 'd9089fbf61194020b3601d7a24c5663e',\n",
       "      'endpoint_url': 'https://s3.us-south.cloud-object-storage.appdomain.cloud',\n",
       "      'secret_access_key': '04d89ef816e54bff698cc2c85b1caa61434314fe5a8eb4a5'},\n",
       "     'location': {'bucket': 'model-input-data'},\n",
       "     'type': 's3'}],\n",
       "   'output_data_reference': {'connection': {'access_key_id': 'd9089fbf61194020b3601d7a24c5663e',\n",
       "     'endpoint_url': 'https://s3.us-south.cloud-object-storage.appdomain.cloud',\n",
       "     'secret_access_key': '04d89ef816e54bff698cc2c85b1caa61434314fe5a8eb4a5'},\n",
       "    'location': {'bucket': 'model-output-data'},\n",
       "    'type': 's3'},\n",
       "   'status': {'completed_at': '2021-01-11T04:23:18.534Z',\n",
       "    'failure': {'trace': '57bdc055cc32148a939df785a3103bea',\n",
       "     'errors': [{'code': 'python_runtime_out_of_memory',\n",
       "       'message': \"('Connection aborted.', RemoteDisconnected('Remote end closed connection without response'))\"}]},\n",
       "    'running_at': '',\n",
       "    'state': 'failed'}}},\n",
       " 'metadata': {'created_at': '2021-01-11T04:22:58.041Z',\n",
       "  'id': '82066f96-023b-4760-acbf-a52eb3dde8ec',\n",
       "  'name': 'Test Predict use LR xgboost',\n",
       "  'space_id': '35e5769e-3a6a-4eba-8fa0-09ebd594f205'}}"
      ]
     },
     "execution_count": 77,
     "metadata": {},
     "output_type": "execute_result"
    }
   ],
   "source": [
    "client.deployments.get_job_details(job_id)"
   ]
  },
  {
   "cell_type": "code",
   "execution_count": null,
   "metadata": {},
   "outputs": [],
   "source": [
    "print('test')"
   ]
  }
 ],
 "metadata": {
  "colab": {
   "collapsed_sections": [],
   "name": "MODEL TRAINING FLOW (TEST)",
   "provenance": []
  },
  "kernelspec": {
   "display_name": "Python 3",
   "language": "python",
   "name": "python3"
  },
  "language_info": {
   "codemirror_mode": {
    "name": "ipython",
    "version": 3
   },
   "file_extension": ".py",
   "mimetype": "text/x-python",
   "name": "python",
   "nbconvert_exporter": "python",
   "pygments_lexer": "ipython3",
   "version": "3.8.5-final"
  }
 },
 "nbformat": 4,
 "nbformat_minor": 1
}